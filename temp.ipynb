{
 "cells": [
  {
   "cell_type": "code",
   "execution_count": 2,
   "metadata": {},
   "outputs": [],
   "source": [
    "from clip_image_to_text import load_interrogator, inference\n",
    "model = load_interrogator(\"/home/mlfavorfit/lib/favorfit/kjg/0_model_weights/image_to_text/clip\", caption_model_name=\"blip-base\", device=\"cuda\") "
   ]
  },
  {
   "cell_type": "code",
   "execution_count": 4,
   "metadata": {},
   "outputs": [
    {
     "name": "stdout",
     "output_type": "stream",
     "text": [
      "chan chan perfume bottle on a black background, perfume bottle, dramatic product photography, antique perfume, chaumet, floating in perfume, commercial product photography, chanel, dramatic product shot, miniature photography, product photography, rendered with unreal engine, product photography 4 k, 3 d product render, still life photography, commercial photo, packshot, behance. polished\n"
     ]
    }
   ],
   "source": [
    "from PIL import Image\n",
    "\n",
    "img_pil = Image.open(\"/media/mlfavorfit/sdb/contolnet_dataset/val/158_Chane.jpg\").convert('RGB')\n",
    "result = inference(img_pil=img_pil, model=model)\n",
    "print(result)"
   ]
  },
  {
   "cell_type": "code",
   "execution_count": 5,
   "metadata": {},
   "outputs": [],
   "source": [
    "from glob import glob\n",
    "\n",
    "fns = glob(\"/media/mlfavorfit/sdb/contolnet_dataset/control_net_train_base/images/*\")"
   ]
  },
  {
   "cell_type": "code",
   "execution_count": 6,
   "metadata": {},
   "outputs": [],
   "source": [
    "result_dict_list = []"
   ]
  },
  {
   "cell_type": "code",
   "execution_count": 9,
   "metadata": {},
   "outputs": [
    {
     "name": "stderr",
     "output_type": "stream",
     "text": [
      "100%|██████████| 197967/197967 [9:49:27<00:00,  5.60it/s]  \n"
     ]
    }
   ],
   "source": [
    "import os\n",
    "from tqdm import tqdm\n",
    "\n",
    "for fn in tqdm(fns, total=len(fns)):\n",
    "    temp_dict = {\"text\":None, \"image\":None, \"mask\":None}\n",
    "\n",
    "    img = Image.open(fn).convert(\"RGB\")\n",
    "    caption = inference(img_pil=img, model=model)\n",
    "\n",
    "    temp_dict[\"text\"] = caption\n",
    "    temp_dict[\"image\"] = os.path.join(\"images\", os.path.basename(fn))\n",
    "    temp_dict[\"mask\"] = os.path.join(\"masks\", os.path.basename(fn))\n",
    "\n",
    "    result_dict_list.append(temp_dict)"
   ]
  },
  {
   "cell_type": "code",
   "execution_count": 10,
   "metadata": {},
   "outputs": [],
   "source": [
    "import json\n",
    "def save_data_to_jsonlines(data, filename):\n",
    "    with open(filename, 'w') as f:\n",
    "        for item in data:\n",
    "            json.dump(item, f)\n",
    "            f.write('\\n')"
   ]
  },
  {
   "cell_type": "code",
   "execution_count": 11,
   "metadata": {},
   "outputs": [],
   "source": [
    "save_data_to_jsonlines(result_dict_list, './temp.jsonl')"
   ]
  }
 ],
 "metadata": {
  "kernelspec": {
   "display_name": "diffusion",
   "language": "python",
   "name": "python3"
  },
  "language_info": {
   "codemirror_mode": {
    "name": "ipython",
    "version": 3
   },
   "file_extension": ".py",
   "mimetype": "text/x-python",
   "name": "python",
   "nbconvert_exporter": "python",
   "pygments_lexer": "ipython3",
   "version": "3.8.18"
  },
  "orig_nbformat": 4
 },
 "nbformat": 4,
 "nbformat_minor": 2
}
